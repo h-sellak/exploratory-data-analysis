{
 "cells": [
  {
   "cell_type": "markdown",
   "id": "8dafdc2a",
   "metadata": {},
   "source": [
    "# Exploratory Data Analysis: The Titanic Dataset"
   ]
  },
  {
   "cell_type": "markdown",
   "id": "8effbf93",
   "metadata": {},
   "source": [
    "## 1. Introduction"
   ]
  },
  {
   "cell_type": "markdown",
   "id": "63a9a4f0",
   "metadata": {},
   "source": [
    "### 1.1. A bit of Histroy"
   ]
  },
  {
   "cell_type": "markdown",
   "id": "4d45a71f",
   "metadata": {},
   "source": [
    "The Titanic's sinking remains one of the most notorious maritime disasters in history.\n",
    "\n",
    "During its maiden voyage on April 15, 1912, the RMS Titanic, once deemed \"unsinkable,\" tragically met its fate after striking an iceberg. Tragically, the vessel lacked sufficient lifeboats, resulting in 1502 fatalities among the 2224 passengers and crew.\n",
    "\n",
    "Survival was not entirely dictated by chance; rather, certain groups seemed to have a higher survival rate than others."
   ]
  },
  {
   "cell_type": "markdown",
   "id": "70f461f7",
   "metadata": {},
   "source": [
    "### 1.2. Dataset"
   ]
  },
  {
   "cell_type": "markdown",
   "id": "c4d969d9",
   "metadata": {},
   "source": [
    "This Jupyter notebook performs an in-depth **Exploratory Data Analysis (EDA)** on the popular [Titanic dataset](https://github.com/mwaskom/seaborn-data/blob/master/titanic.csv). The dataset contains demographic and travelling information from 891 of the 2224 passengers and crew on board of the Titanic. The dataset has 15 columns describing aspects like passengers' gender (sex), age, passenger-class (pclass), fare, and if they survived the tragedy or not.\n",
    "\n",
    "The columns of the [Titanic dataset](https://github.com/mwaskom/seaborn-data/blob/master/titanic.csv) are as follows:\n",
    "\n",
    "1. __Survived__: This is a binary flag (0 = No, 1 = Yes) indicating whether the passenger survived the shipwreck.\n",
    "2. __Pclass__: This categorical feature (1 = Upper, 2 = Middle, 3 = Lower) represents the socio-economic class of the passenger.\n",
    "3. __Sex__: This indicates the gender of the passenger (male or female).\n",
    "4. __Age__: This is a numerical column that shows the age of the passenger in years.\n",
    "5. __SibSp__: This numerical column denotes the total number of siblings and spouses the passenger had on board.\n",
    "6. __Parch__: This numerical column indicates the total number of parents and children the passenger had on board.\n",
    "7. __Fare__: This numerical column represents the fare that the passenger paid for the trip.\n",
    "8. __Embarked__: This categorical column (C = Cherbourg, Q = Queenstown, S = Southampton) signifies the port where the passenger embarked on the Titanic.\n",
    "9. __Class__: This is a string representation of the passenger's class (First, Second, Third).\n",
    "10. __Who__: This column is a string representation of who the passenger was (man, woman, child).\n",
    "11. __Adult_male__: This is a Boolean flag indicating whether the passenger was an adult male.\n",
    "12. __Deck__: This categorical column indicates the deck where the passenger's cabin was located.\n",
    "13. __Embark_town__: This column is a string representation of the town where the passenger embarked.\n",
    "14. __Alive__: This column is a string representation of whether the passenger survived (yes, no).\n",
    "15. __Alone__: This is a Boolean flag indicating whether the passenger was alone on the ship."
   ]
  },
  {
   "cell_type": "markdown",
   "id": "7c4354a9",
   "metadata": {},
   "source": [
    "### 1.3. Objective"
   ]
  },
  {
   "cell_type": "markdown",
   "id": "c5e4248e",
   "metadata": {},
   "source": [
    "The main goal of this notebook is to delve into this dataset and extract meaningful insights, which can help understand factors that contributed to the survival (or non-survival) of the passengers. We'll tackle missing data, create visualisations, analyse feature distributions, and much more."
   ]
  },
  {
   "cell_type": "markdown",
   "id": "b83b11fc",
   "metadata": {},
   "source": [
    "### 1.4. Duration"
   ]
  },
  {
   "cell_type": "markdown",
   "id": "332d90d1",
   "metadata": {},
   "source": [
    "$\\approx$ 45minutes"
   ]
  },
  {
   "cell_type": "markdown",
   "id": "3c8d7823",
   "metadata": {},
   "source": [
    "## 2. Packages"
   ]
  },
  {
   "cell_type": "markdown",
   "id": "5041b034",
   "metadata": {},
   "source": [
    "In this notebook, we will be using several Python libraries to help with our data analysis. Here's a quick rundown of the libraries and their purpose:\n",
    "\n",
    "1. **Pandas**: A popular library for data manipulation and analysis. We'll use it for various tasks such as loading the dataset into a DataFrame, handling missing data, and extracting useful information.\n",
    "2. **NumPy**: A library that adds support for large, multi-dimensional arrays and matrices, along with a large collection of high-level mathematical functions to operate on these arrays.\n",
    "3. **Matplotlib**: A plotting library for creating static, animated, and interactive visualisations in Python. We'll be using this library for plotting graphs and charts to visualize our data better.\n",
    "4. **Seaborn**: A statistical data visualization library based on `Matplotlib`. It provides a high-level interface for creating attractive graphics. We'll be using `Seaborn` for more complex visualizations and to make our `Matplotlib` plots look more attractive.\n",
    "5. **SciPy**: A library used for scientific and technical computing. It contains modules for optimization, linear algebra, integration, interpolation, special functions, signal and image processing, and more. We'll be using it for conducting statistical tests to analyse our data further.\n",
    "\n",
    "These libraries form the backbone of our data analysis and allow us to interact with, manipulate, and visualise our data effectively."
   ]
  },
  {
   "cell_type": "code",
   "execution_count": 1,
   "id": "c1340817",
   "metadata": {},
   "outputs": [],
   "source": [
    "# Import necessary libraries\n",
    "import pandas as pd\n",
    "import numpy as np\n",
    "import matplotlib.pyplot as plt\n",
    "import seaborn as sns\n",
    "from scipy.stats import chi2_contingency"
   ]
  },
  {
   "cell_type": "markdown",
   "id": "077b885e",
   "metadata": {},
   "source": [
    "## 3. Dataset"
   ]
  },
  {
   "cell_type": "markdown",
   "id": "6e0c73a1",
   "metadata": {},
   "source": [
    "## 3.1. Load Dataset"
   ]
  },
  {
   "cell_type": "code",
   "execution_count": 2,
   "id": "f39db960",
   "metadata": {},
   "outputs": [
    {
     "data": {
      "text/html": [
       "<div>\n",
       "<style scoped>\n",
       "    .dataframe tbody tr th:only-of-type {\n",
       "        vertical-align: middle;\n",
       "    }\n",
       "\n",
       "    .dataframe tbody tr th {\n",
       "        vertical-align: top;\n",
       "    }\n",
       "\n",
       "    .dataframe thead th {\n",
       "        text-align: right;\n",
       "    }\n",
       "</style>\n",
       "<table border=\"1\" class=\"dataframe\">\n",
       "  <thead>\n",
       "    <tr style=\"text-align: right;\">\n",
       "      <th></th>\n",
       "      <th>survived</th>\n",
       "      <th>pclass</th>\n",
       "      <th>sex</th>\n",
       "      <th>age</th>\n",
       "      <th>sibsp</th>\n",
       "      <th>parch</th>\n",
       "      <th>fare</th>\n",
       "      <th>embarked</th>\n",
       "      <th>class</th>\n",
       "      <th>who</th>\n",
       "      <th>adult_male</th>\n",
       "      <th>deck</th>\n",
       "      <th>embark_town</th>\n",
       "      <th>alive</th>\n",
       "      <th>alone</th>\n",
       "    </tr>\n",
       "  </thead>\n",
       "  <tbody>\n",
       "    <tr>\n",
       "      <th>0</th>\n",
       "      <td>0</td>\n",
       "      <td>3</td>\n",
       "      <td>male</td>\n",
       "      <td>22.0</td>\n",
       "      <td>1</td>\n",
       "      <td>0</td>\n",
       "      <td>7.2500</td>\n",
       "      <td>S</td>\n",
       "      <td>Third</td>\n",
       "      <td>man</td>\n",
       "      <td>True</td>\n",
       "      <td>NaN</td>\n",
       "      <td>Southampton</td>\n",
       "      <td>no</td>\n",
       "      <td>False</td>\n",
       "    </tr>\n",
       "    <tr>\n",
       "      <th>1</th>\n",
       "      <td>1</td>\n",
       "      <td>1</td>\n",
       "      <td>female</td>\n",
       "      <td>38.0</td>\n",
       "      <td>1</td>\n",
       "      <td>0</td>\n",
       "      <td>71.2833</td>\n",
       "      <td>C</td>\n",
       "      <td>First</td>\n",
       "      <td>woman</td>\n",
       "      <td>False</td>\n",
       "      <td>C</td>\n",
       "      <td>Cherbourg</td>\n",
       "      <td>yes</td>\n",
       "      <td>False</td>\n",
       "    </tr>\n",
       "    <tr>\n",
       "      <th>2</th>\n",
       "      <td>1</td>\n",
       "      <td>3</td>\n",
       "      <td>female</td>\n",
       "      <td>26.0</td>\n",
       "      <td>0</td>\n",
       "      <td>0</td>\n",
       "      <td>7.9250</td>\n",
       "      <td>S</td>\n",
       "      <td>Third</td>\n",
       "      <td>woman</td>\n",
       "      <td>False</td>\n",
       "      <td>NaN</td>\n",
       "      <td>Southampton</td>\n",
       "      <td>yes</td>\n",
       "      <td>True</td>\n",
       "    </tr>\n",
       "    <tr>\n",
       "      <th>3</th>\n",
       "      <td>1</td>\n",
       "      <td>1</td>\n",
       "      <td>female</td>\n",
       "      <td>35.0</td>\n",
       "      <td>1</td>\n",
       "      <td>0</td>\n",
       "      <td>53.1000</td>\n",
       "      <td>S</td>\n",
       "      <td>First</td>\n",
       "      <td>woman</td>\n",
       "      <td>False</td>\n",
       "      <td>C</td>\n",
       "      <td>Southampton</td>\n",
       "      <td>yes</td>\n",
       "      <td>False</td>\n",
       "    </tr>\n",
       "    <tr>\n",
       "      <th>4</th>\n",
       "      <td>0</td>\n",
       "      <td>3</td>\n",
       "      <td>male</td>\n",
       "      <td>35.0</td>\n",
       "      <td>0</td>\n",
       "      <td>0</td>\n",
       "      <td>8.0500</td>\n",
       "      <td>S</td>\n",
       "      <td>Third</td>\n",
       "      <td>man</td>\n",
       "      <td>True</td>\n",
       "      <td>NaN</td>\n",
       "      <td>Southampton</td>\n",
       "      <td>no</td>\n",
       "      <td>True</td>\n",
       "    </tr>\n",
       "    <tr>\n",
       "      <th>5</th>\n",
       "      <td>0</td>\n",
       "      <td>3</td>\n",
       "      <td>male</td>\n",
       "      <td>NaN</td>\n",
       "      <td>0</td>\n",
       "      <td>0</td>\n",
       "      <td>8.4583</td>\n",
       "      <td>Q</td>\n",
       "      <td>Third</td>\n",
       "      <td>man</td>\n",
       "      <td>True</td>\n",
       "      <td>NaN</td>\n",
       "      <td>Queenstown</td>\n",
       "      <td>no</td>\n",
       "      <td>True</td>\n",
       "    </tr>\n",
       "    <tr>\n",
       "      <th>6</th>\n",
       "      <td>0</td>\n",
       "      <td>1</td>\n",
       "      <td>male</td>\n",
       "      <td>54.0</td>\n",
       "      <td>0</td>\n",
       "      <td>0</td>\n",
       "      <td>51.8625</td>\n",
       "      <td>S</td>\n",
       "      <td>First</td>\n",
       "      <td>man</td>\n",
       "      <td>True</td>\n",
       "      <td>E</td>\n",
       "      <td>Southampton</td>\n",
       "      <td>no</td>\n",
       "      <td>True</td>\n",
       "    </tr>\n",
       "    <tr>\n",
       "      <th>7</th>\n",
       "      <td>0</td>\n",
       "      <td>3</td>\n",
       "      <td>male</td>\n",
       "      <td>2.0</td>\n",
       "      <td>3</td>\n",
       "      <td>1</td>\n",
       "      <td>21.0750</td>\n",
       "      <td>S</td>\n",
       "      <td>Third</td>\n",
       "      <td>child</td>\n",
       "      <td>False</td>\n",
       "      <td>NaN</td>\n",
       "      <td>Southampton</td>\n",
       "      <td>no</td>\n",
       "      <td>False</td>\n",
       "    </tr>\n",
       "    <tr>\n",
       "      <th>8</th>\n",
       "      <td>1</td>\n",
       "      <td>3</td>\n",
       "      <td>female</td>\n",
       "      <td>27.0</td>\n",
       "      <td>0</td>\n",
       "      <td>2</td>\n",
       "      <td>11.1333</td>\n",
       "      <td>S</td>\n",
       "      <td>Third</td>\n",
       "      <td>woman</td>\n",
       "      <td>False</td>\n",
       "      <td>NaN</td>\n",
       "      <td>Southampton</td>\n",
       "      <td>yes</td>\n",
       "      <td>False</td>\n",
       "    </tr>\n",
       "    <tr>\n",
       "      <th>9</th>\n",
       "      <td>1</td>\n",
       "      <td>2</td>\n",
       "      <td>female</td>\n",
       "      <td>14.0</td>\n",
       "      <td>1</td>\n",
       "      <td>0</td>\n",
       "      <td>30.0708</td>\n",
       "      <td>C</td>\n",
       "      <td>Second</td>\n",
       "      <td>child</td>\n",
       "      <td>False</td>\n",
       "      <td>NaN</td>\n",
       "      <td>Cherbourg</td>\n",
       "      <td>yes</td>\n",
       "      <td>False</td>\n",
       "    </tr>\n",
       "  </tbody>\n",
       "</table>\n",
       "</div>"
      ],
      "text/plain": [
       "   survived  pclass     sex   age  sibsp  parch     fare embarked   class  \\\n",
       "0         0       3    male  22.0      1      0   7.2500        S   Third   \n",
       "1         1       1  female  38.0      1      0  71.2833        C   First   \n",
       "2         1       3  female  26.0      0      0   7.9250        S   Third   \n",
       "3         1       1  female  35.0      1      0  53.1000        S   First   \n",
       "4         0       3    male  35.0      0      0   8.0500        S   Third   \n",
       "5         0       3    male   NaN      0      0   8.4583        Q   Third   \n",
       "6         0       1    male  54.0      0      0  51.8625        S   First   \n",
       "7         0       3    male   2.0      3      1  21.0750        S   Third   \n",
       "8         1       3  female  27.0      0      2  11.1333        S   Third   \n",
       "9         1       2  female  14.0      1      0  30.0708        C  Second   \n",
       "\n",
       "     who  adult_male deck  embark_town alive  alone  \n",
       "0    man        True  NaN  Southampton    no  False  \n",
       "1  woman       False    C    Cherbourg   yes  False  \n",
       "2  woman       False  NaN  Southampton   yes   True  \n",
       "3  woman       False    C  Southampton   yes  False  \n",
       "4    man        True  NaN  Southampton    no   True  \n",
       "5    man        True  NaN   Queenstown    no   True  \n",
       "6    man        True    E  Southampton    no   True  \n",
       "7  child       False  NaN  Southampton    no  False  \n",
       "8  woman       False  NaN  Southampton   yes  False  \n",
       "9  child       False  NaN    Cherbourg   yes  False  "
      ]
     },
     "execution_count": 2,
     "metadata": {},
     "output_type": "execute_result"
    }
   ],
   "source": [
    "# Load the dataset\n",
    "# 1. From Seaborn library (recommended)\n",
    "titanic = sns.load_dataset('titanic')\n",
    "# 2. From csv file (credit: https://www.kaggle.com/datasets/yasserh/titanic-dataset)\n",
    "# titanic = pd.read_csv(filepath_or_buffer=\"./datasets/titanic-dataset.csv\")\n",
    "\n",
    "# Display the first few 10 rows of the dataset\n",
    "titanic.head(10)"
   ]
  },
  {
   "cell_type": "markdown",
   "id": "f3fb60ba",
   "metadata": {},
   "source": [
    "## 3.2. Missing Values"
   ]
  },
  {
   "cell_type": "markdown",
   "id": "edac568c",
   "metadata": {},
   "source": [
    "The `pandas.DataFrame.info()` function is a valuable tool in initial data analysis. It provides a concise summary of a DataFrame. This method prints information about the DataFrame including the index dtype and columns, non-null values and memory usage. It's a quick and easy way to get a snapshot of your data, especially helpful in understanding the type of data you're dealing with, the data types of each column, and spotting if there are any missing values that might need to be handled. This is often the first step in exploring a new dataset as it offers a broad overview of its structure."
   ]
  },
  {
   "cell_type": "code",
   "execution_count": 3,
   "id": "75d17c57",
   "metadata": {},
   "outputs": [
    {
     "name": "stdout",
     "output_type": "stream",
     "text": [
      "<class 'pandas.core.frame.DataFrame'>\n",
      "RangeIndex: 891 entries, 0 to 890\n",
      "Data columns (total 15 columns):\n",
      " #   Column       Non-Null Count  Dtype   \n",
      "---  ------       --------------  -----   \n",
      " 0   survived     891 non-null    int64   \n",
      " 1   pclass       891 non-null    int64   \n",
      " 2   sex          891 non-null    object  \n",
      " 3   age          714 non-null    float64 \n",
      " 4   sibsp        891 non-null    int64   \n",
      " 5   parch        891 non-null    int64   \n",
      " 6   fare         891 non-null    float64 \n",
      " 7   embarked     889 non-null    object  \n",
      " 8   class        891 non-null    category\n",
      " 9   who          891 non-null    object  \n",
      " 10  adult_male   891 non-null    bool    \n",
      " 11  deck         203 non-null    category\n",
      " 12  embark_town  889 non-null    object  \n",
      " 13  alive        891 non-null    object  \n",
      " 14  alone        891 non-null    bool    \n",
      "dtypes: bool(2), category(2), float64(2), int64(4), object(5)\n",
      "memory usage: 80.7+ KB\n"
     ]
    }
   ],
   "source": [
    "# Checking the data types and missing values\n",
    "titanic.info()"
   ]
  },
  {
   "cell_type": "code",
   "execution_count": 4,
   "id": "12d12ccd",
   "metadata": {},
   "outputs": [
    {
     "name": "stdout",
     "output_type": "stream",
     "text": [
      "Total missing values for column 'survived' is: 0\n",
      "Total missing values for column 'pclass' is: 0\n",
      "Total missing values for column 'sex' is: 0\n",
      "Total missing values for column 'age' is: 177\n",
      "Total missing values for column 'sibsp' is: 0\n",
      "Total missing values for column 'parch' is: 0\n",
      "Total missing values for column 'fare' is: 0\n",
      "Total missing values for column 'embarked' is: 2\n",
      "Total missing values for column 'class' is: 0\n",
      "Total missing values for column 'who' is: 0\n",
      "Total missing values for column 'adult_male' is: 0\n",
      "Total missing values for column 'deck' is: 688\n",
      "Total missing values for column 'embark_town' is: 2\n",
      "Total missing values for column 'alive' is: 0\n",
      "Total missing values for column 'alone' is: 0\n"
     ]
    }
   ],
   "source": [
    "dic_cols = {}\n",
    "for col in list(titanic.columns):\n",
    "    dic_cols[col] = titanic[col].isna().sum()\n",
    "    print(f\"Total missing values for column '{col}' is: {dic_cols[col]}\")"
   ]
  },
  {
   "cell_type": "markdown",
   "id": "e4194c5d",
   "metadata": {},
   "source": [
    "It looks like the **deck** column (a categorical column that indicates the deck where the passenger's cabin was located) has the highest number of mising values followed by **age** (a numerical column that shows the age of the passenger in years). "
   ]
  },
  {
   "cell_type": "code",
   "execution_count": 5,
   "id": "6a6da132",
   "metadata": {},
   "outputs": [
    {
     "data": {
      "text/plain": [
       "[('deck', 688),\n",
       " ('age', 177),\n",
       " ('embarked', 2),\n",
       " ('embark_town', 2),\n",
       " ('survived', 0),\n",
       " ('pclass', 0),\n",
       " ('sex', 0),\n",
       " ('sibsp', 0),\n",
       " ('parch', 0),\n",
       " ('fare', 0),\n",
       " ('class', 0),\n",
       " ('who', 0),\n",
       " ('adult_male', 0),\n",
       " ('alive', 0),\n",
       " ('alone', 0)]"
      ]
     },
     "execution_count": 5,
     "metadata": {},
     "output_type": "execute_result"
    }
   ],
   "source": [
    "# Rank columns with highest number of missing values\n",
    "sorted_dic_cols = sorted(dic_cols.items(), key=lambda x:x[1], reverse=True)\n",
    "sorted_dic_cols"
   ]
  },
  {
   "cell_type": "markdown",
   "id": "4bf380bb",
   "metadata": {},
   "source": [
    "To handle missing data, you can either drop these rows or fill them with meaningful values such as mean, median or mode)."
   ]
  },
  {
   "cell_type": "code",
   "execution_count": 6,
   "id": "9665d46f",
   "metadata": {},
   "outputs": [],
   "source": [
    "# For example, we can fill missing age values with median\n",
    "titanic['age'].fillna(titanic['age'].median(), inplace=True)\n",
    "\n",
    "# Or with the mode which is the number that occurs most often in a dataset\n",
    "# titanic['age'].fillna(titanic['age'].mode(), inplace=True)"
   ]
  },
  {
   "cell_type": "code",
   "execution_count": 7,
   "id": "03e80136",
   "metadata": {},
   "outputs": [],
   "source": [
    "# Dropping 'deck' column due to excessive missing values\n",
    "titanic.drop('deck', axis=1, inplace=True)"
   ]
  },
  {
   "cell_type": "code",
   "execution_count": 8,
   "id": "4c572bb7",
   "metadata": {},
   "outputs": [],
   "source": [
    "# Dropping rows with missing 'embarked' values\n",
    "titanic.dropna(subset=['embarked'], inplace=True)"
   ]
  },
  {
   "cell_type": "markdown",
   "id": "ecce1708",
   "metadata": {},
   "source": [
    "Let's check if we still have any missing values."
   ]
  },
  {
   "cell_type": "code",
   "execution_count": 10,
   "id": "6ed6a83e",
   "metadata": {},
   "outputs": [
    {
     "name": "stdout",
     "output_type": "stream",
     "text": [
      "Total missing values for column 'survived' is: 0\n",
      "Total missing values for column 'pclass' is: 0\n",
      "Total missing values for column 'sex' is: 0\n",
      "Total missing values for column 'age' is: 0\n",
      "Total missing values for column 'sibsp' is: 0\n",
      "Total missing values for column 'parch' is: 0\n",
      "Total missing values for column 'fare' is: 0\n",
      "Total missing values for column 'embarked' is: 0\n",
      "Total missing values for column 'class' is: 0\n",
      "Total missing values for column 'who' is: 0\n",
      "Total missing values for column 'adult_male' is: 0\n",
      "Total missing values for column 'embark_town' is: 0\n",
      "Total missing values for column 'alive' is: 0\n",
      "Total missing values for column 'alone' is: 0\n"
     ]
    }
   ],
   "source": [
    "for col in list(titanic.columns):\n",
    "    print(f\"Total missing values for column '{col}' is: {titanic[col].isna().sum()}\")"
   ]
  },
  {
   "cell_type": "markdown",
   "id": "c76f2773",
   "metadata": {},
   "source": [
    "It looks like our dataset is ready for the next step!"
   ]
  },
  {
   "cell_type": "markdown",
   "id": "10e58a4a",
   "metadata": {},
   "source": [
    "## 4. Exploratory Analysis"
   ]
  },
  {
   "cell_type": "markdown",
   "id": "353758c7",
   "metadata": {},
   "source": [
    "The `pandas.DataFrame.describe()` method is a powerful tool that generates descriptive statistics of a `DataFrame`. For numerical columns, it provides a summary of central tendency, dispersion and shape of the dataset's distribution, excluding `NaN` values. It calculates statistics such as __count__, __mean__, __standard deviation__, __minimum__ value, __25th percentile__ (Q1), __median__ (50th percentile or Q2), __75th percentile__ (Q3), and the __maximum__ value. For object-type (including string) columns, it gives a simple summary of the number of __unique__ values, the most __frequent__ value, and the __count__ of the most frequent value. This method is extremely useful for a quick statistical analysis of the dataset and helps to understand the distribution of the data."
   ]
  },
  {
   "cell_type": "code",
   "execution_count": 11,
   "id": "721d5d98",
   "metadata": {},
   "outputs": [
    {
     "data": {
      "text/html": [
       "<div>\n",
       "<style scoped>\n",
       "    .dataframe tbody tr th:only-of-type {\n",
       "        vertical-align: middle;\n",
       "    }\n",
       "\n",
       "    .dataframe tbody tr th {\n",
       "        vertical-align: top;\n",
       "    }\n",
       "\n",
       "    .dataframe thead th {\n",
       "        text-align: right;\n",
       "    }\n",
       "</style>\n",
       "<table border=\"1\" class=\"dataframe\">\n",
       "  <thead>\n",
       "    <tr style=\"text-align: right;\">\n",
       "      <th></th>\n",
       "      <th>survived</th>\n",
       "      <th>pclass</th>\n",
       "      <th>age</th>\n",
       "      <th>sibsp</th>\n",
       "      <th>parch</th>\n",
       "      <th>fare</th>\n",
       "    </tr>\n",
       "  </thead>\n",
       "  <tbody>\n",
       "    <tr>\n",
       "      <th>count</th>\n",
       "      <td>889.000000</td>\n",
       "      <td>889.000000</td>\n",
       "      <td>889.000000</td>\n",
       "      <td>889.000000</td>\n",
       "      <td>889.000000</td>\n",
       "      <td>889.000000</td>\n",
       "    </tr>\n",
       "    <tr>\n",
       "      <th>mean</th>\n",
       "      <td>0.382452</td>\n",
       "      <td>2.311586</td>\n",
       "      <td>29.315152</td>\n",
       "      <td>0.524184</td>\n",
       "      <td>0.382452</td>\n",
       "      <td>32.096681</td>\n",
       "    </tr>\n",
       "    <tr>\n",
       "      <th>std</th>\n",
       "      <td>0.486260</td>\n",
       "      <td>0.834700</td>\n",
       "      <td>12.984932</td>\n",
       "      <td>1.103705</td>\n",
       "      <td>0.806761</td>\n",
       "      <td>49.697504</td>\n",
       "    </tr>\n",
       "    <tr>\n",
       "      <th>min</th>\n",
       "      <td>0.000000</td>\n",
       "      <td>1.000000</td>\n",
       "      <td>0.420000</td>\n",
       "      <td>0.000000</td>\n",
       "      <td>0.000000</td>\n",
       "      <td>0.000000</td>\n",
       "    </tr>\n",
       "    <tr>\n",
       "      <th>25%</th>\n",
       "      <td>0.000000</td>\n",
       "      <td>2.000000</td>\n",
       "      <td>22.000000</td>\n",
       "      <td>0.000000</td>\n",
       "      <td>0.000000</td>\n",
       "      <td>7.895800</td>\n",
       "    </tr>\n",
       "    <tr>\n",
       "      <th>50%</th>\n",
       "      <td>0.000000</td>\n",
       "      <td>3.000000</td>\n",
       "      <td>28.000000</td>\n",
       "      <td>0.000000</td>\n",
       "      <td>0.000000</td>\n",
       "      <td>14.454200</td>\n",
       "    </tr>\n",
       "    <tr>\n",
       "      <th>75%</th>\n",
       "      <td>1.000000</td>\n",
       "      <td>3.000000</td>\n",
       "      <td>35.000000</td>\n",
       "      <td>1.000000</td>\n",
       "      <td>0.000000</td>\n",
       "      <td>31.000000</td>\n",
       "    </tr>\n",
       "    <tr>\n",
       "      <th>max</th>\n",
       "      <td>1.000000</td>\n",
       "      <td>3.000000</td>\n",
       "      <td>80.000000</td>\n",
       "      <td>8.000000</td>\n",
       "      <td>6.000000</td>\n",
       "      <td>512.329200</td>\n",
       "    </tr>\n",
       "  </tbody>\n",
       "</table>\n",
       "</div>"
      ],
      "text/plain": [
       "         survived      pclass         age       sibsp       parch        fare\n",
       "count  889.000000  889.000000  889.000000  889.000000  889.000000  889.000000\n",
       "mean     0.382452    2.311586   29.315152    0.524184    0.382452   32.096681\n",
       "std      0.486260    0.834700   12.984932    1.103705    0.806761   49.697504\n",
       "min      0.000000    1.000000    0.420000    0.000000    0.000000    0.000000\n",
       "25%      0.000000    2.000000   22.000000    0.000000    0.000000    7.895800\n",
       "50%      0.000000    3.000000   28.000000    0.000000    0.000000   14.454200\n",
       "75%      1.000000    3.000000   35.000000    1.000000    0.000000   31.000000\n",
       "max      1.000000    3.000000   80.000000    8.000000    6.000000  512.329200"
      ]
     },
     "execution_count": 11,
     "metadata": {},
     "output_type": "execute_result"
    }
   ],
   "source": [
    "# Descriptive statistics for numerical columns\n",
    "titanic.describe()"
   ]
  },
  {
   "cell_type": "code",
   "execution_count": 12,
   "id": "9140a9bb",
   "metadata": {},
   "outputs": [
    {
     "data": {
      "text/html": [
       "<div>\n",
       "<style scoped>\n",
       "    .dataframe tbody tr th:only-of-type {\n",
       "        vertical-align: middle;\n",
       "    }\n",
       "\n",
       "    .dataframe tbody tr th {\n",
       "        vertical-align: top;\n",
       "    }\n",
       "\n",
       "    .dataframe thead th {\n",
       "        text-align: right;\n",
       "    }\n",
       "</style>\n",
       "<table border=\"1\" class=\"dataframe\">\n",
       "  <thead>\n",
       "    <tr style=\"text-align: right;\">\n",
       "      <th></th>\n",
       "      <th>sex</th>\n",
       "      <th>embarked</th>\n",
       "      <th>who</th>\n",
       "      <th>embark_town</th>\n",
       "      <th>alive</th>\n",
       "    </tr>\n",
       "  </thead>\n",
       "  <tbody>\n",
       "    <tr>\n",
       "      <th>count</th>\n",
       "      <td>889</td>\n",
       "      <td>889</td>\n",
       "      <td>889</td>\n",
       "      <td>889</td>\n",
       "      <td>889</td>\n",
       "    </tr>\n",
       "    <tr>\n",
       "      <th>unique</th>\n",
       "      <td>2</td>\n",
       "      <td>3</td>\n",
       "      <td>3</td>\n",
       "      <td>3</td>\n",
       "      <td>2</td>\n",
       "    </tr>\n",
       "    <tr>\n",
       "      <th>top</th>\n",
       "      <td>male</td>\n",
       "      <td>S</td>\n",
       "      <td>man</td>\n",
       "      <td>Southampton</td>\n",
       "      <td>no</td>\n",
       "    </tr>\n",
       "    <tr>\n",
       "      <th>freq</th>\n",
       "      <td>577</td>\n",
       "      <td>644</td>\n",
       "      <td>537</td>\n",
       "      <td>644</td>\n",
       "      <td>549</td>\n",
       "    </tr>\n",
       "  </tbody>\n",
       "</table>\n",
       "</div>"
      ],
      "text/plain": [
       "         sex embarked  who  embark_town alive\n",
       "count    889      889  889          889   889\n",
       "unique     2        3    3            3     2\n",
       "top     male        S  man  Southampton    no\n",
       "freq     577      644  537          644   549"
      ]
     },
     "execution_count": 12,
     "metadata": {},
     "output_type": "execute_result"
    }
   ],
   "source": [
    "# Descriptive statistics for categorical columns\n",
    "titanic.describe(include=['O'])"
   ]
  },
  {
   "cell_type": "markdown",
   "id": "5f1de1b2",
   "metadata": {},
   "source": [
    "## 5. Data Visualisation"
   ]
  },
  {
   "cell_type": "markdown",
   "id": "3a6ffbb6",
   "metadata": {},
   "source": [
    "Now, let's create some visualisations. First, we'll look at the distribution of survivors based on different features."
   ]
  },
  {
   "cell_type": "code",
   "execution_count": null,
   "id": "a550a329",
   "metadata": {},
   "outputs": [],
   "source": [
    "# Bar plots for categorical features\n",
    "for col in ['sex', 'pclass', 'embarked', 'alone']:\n",
    "    pd.crosstab(titanic[col], titanic['survived']).plot(kind='bar')"
   ]
  },
  {
   "cell_type": "markdown",
   "id": "702c1f6d",
   "metadata": {},
   "source": [
    "Then, we can examine the age distribution of survivors and non-survivors."
   ]
  },
  {
   "cell_type": "code",
   "execution_count": null,
   "id": "4be805cc",
   "metadata": {},
   "outputs": [],
   "source": [
    "# Age distribution of survivors vs non-survivors\n",
    "g = sns.FacetGrid(titanic, col='survived')\n",
    "g.map(plt.hist, 'age', bins=20)"
   ]
  },
  {
   "cell_type": "markdown",
   "id": "9d094959",
   "metadata": {},
   "source": [
    "Let's now create a box plot for the age and fare features:"
   ]
  },
  {
   "cell_type": "code",
   "execution_count": null,
   "id": "dbaab2b1",
   "metadata": {},
   "outputs": [],
   "source": [
    "# Box plots for 'age' and 'fare'\n",
    "for col in ['age', 'fare']:\n",
    "    titanic.boxplot(column=col)\n",
    "    plt.show()\n"
   ]
  },
  {
   "cell_type": "markdown",
   "id": "84397274",
   "metadata": {},
   "source": [
    "We can also study the correlations between different features:"
   ]
  },
  {
   "cell_type": "code",
   "execution_count": null,
   "id": "bab64e15",
   "metadata": {},
   "outputs": [],
   "source": [
    "# Correlation matrix heatmap\n",
    "corr_matrix = titanic.corr()\n",
    "sns.heatmap(corr_matrix, annot=True)\n"
   ]
  },
  {
   "cell_type": "code",
   "execution_count": null,
   "id": "1c069fc2",
   "metadata": {},
   "outputs": [],
   "source": [
    "Finally, we can perform a Chi-Square test to understand the association between categorical variables:"
   ]
  },
  {
   "cell_type": "code",
   "execution_count": null,
   "id": "b7abe956",
   "metadata": {},
   "outputs": [],
   "source": [
    "# Chi-Square test of independence between 'survived' and 'sex'\n",
    "contingency_table = pd.crosstab(titanic['survived'], titanic['sex'])\n",
    "chi2, p, dof, expected = chi2_contingency(contingency_table)\n",
    "p"
   ]
  },
  {
   "cell_type": "code",
   "execution_count": null,
   "id": "ebc453b4",
   "metadata": {},
   "outputs": [],
   "source": []
  },
  {
   "cell_type": "markdown",
   "id": "9cd7536a",
   "metadata": {},
   "source": [
    "Now, let's visualize some relationships in the data."
   ]
  },
  {
   "cell_type": "code",
   "execution_count": null,
   "id": "7bed8559",
   "metadata": {},
   "outputs": [],
   "source": [
    "# Create a bar plot of survival rate by Sex\n",
    "sns.barplot(x='sex', y='survived', data=titanic)\n",
    "\n",
    "# Create a histogram of Age grouped by survival\n",
    "grid = sns.FacetGrid(titanic, col='survived')\n",
    "grid.map(plt.hist, 'age')"
   ]
  },
  {
   "cell_type": "markdown",
   "id": "d3c1f835",
   "metadata": {},
   "source": [
    "Finally, you can explore the correlations between the different features."
   ]
  },
  {
   "cell_type": "code",
   "execution_count": null,
   "id": "096544c0",
   "metadata": {},
   "outputs": [],
   "source": [
    "# Plot a heatmap to visualize the correlations\n",
    "sns.heatmap(titanic.corr(), annot=True, fmt=\".2f\")"
   ]
  },
  {
   "cell_type": "markdown",
   "id": "5c669d90",
   "metadata": {},
   "source": [
    "This notebook is just a starting point. You can further explore relationships between other variables, conduct more advanced statistical analyses, and perhaps even build a basic predictive model."
   ]
  }
 ],
 "metadata": {
  "kernelspec": {
   "display_name": "Python 3 (ipykernel)",
   "language": "python",
   "name": "python3"
  },
  "language_info": {
   "codemirror_mode": {
    "name": "ipython",
    "version": 3
   },
   "file_extension": ".py",
   "mimetype": "text/x-python",
   "name": "python",
   "nbconvert_exporter": "python",
   "pygments_lexer": "ipython3",
   "version": "3.10.10"
  }
 },
 "nbformat": 4,
 "nbformat_minor": 5
}
